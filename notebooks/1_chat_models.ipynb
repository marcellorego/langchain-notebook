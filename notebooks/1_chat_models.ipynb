{
 "cells": [
  {
   "cell_type": "markdown",
   "id": "845d22af-882f-427d-af94-47a8c9f708d1",
   "metadata": {},
   "source": [
    "# Chat Models"
   ]
  },
  {
   "cell_type": "markdown",
   "id": "531ab5c8-ef3e-469f-aea8-47e613684738",
   "metadata": {},
   "source": [
    "## 1_chat_model_basic"
   ]
  },
  {
   "cell_type": "code",
   "execution_count": null,
   "id": "25acc1eb-f409-4833-9e8b-d40fc5b289a8",
   "metadata": {},
   "outputs": [],
   "source": [
    "%pip install -q python-dotenv langchain langchain-community langchain-ollama"
   ]
  },
  {
   "cell_type": "code",
   "execution_count": null,
   "id": "4e3298ec-ead7-4f86-b4e0-65262a6ebd24",
   "metadata": {},
   "outputs": [],
   "source": [
    "from dotenv import load_dotenv"
   ]
  },
  {
   "cell_type": "code",
   "execution_count": null,
   "id": "63c84ce4-edd7-4578-89ea-87f1909a0baa",
   "metadata": {},
   "outputs": [],
   "source": [
    "# Load environment variables from .env\n",
    "load_dotenv()"
   ]
  },
  {
   "cell_type": "code",
   "execution_count": null,
   "id": "0f021f84-b943-41b3-8f84-68809e95f0a8",
   "metadata": {},
   "outputs": [],
   "source": [
    "from langchain_ollama.llms import OllamaLLM"
   ]
  },
  {
   "cell_type": "code",
   "execution_count": null,
   "id": "a41ca8c0-e1c7-44de-862b-c15481cc3ad5",
   "metadata": {},
   "outputs": [],
   "source": [
    "# Create a OllamaLLM model\n",
    "model = OllamaLLM(base_url=\"http://localhost:11434\", model=\"llama3.2\", temperature=0)"
   ]
  },
  {
   "cell_type": "code",
   "execution_count": null,
   "id": "1b5cbeec-3d4e-490a-b502-ea76ae616d8e",
   "metadata": {},
   "outputs": [],
   "source": [
    "# Invoke the model with a message\n",
    "result = model.invoke(\"What is 81 divided by 9?\")"
   ]
  },
  {
   "cell_type": "code",
   "execution_count": null,
   "id": "c8d2567a-4b2d-487b-9b97-0702ec1bac7c",
   "metadata": {},
   "outputs": [],
   "source": [
    "print(\"Full result:\")\n",
    "print(result)"
   ]
  },
  {
   "cell_type": "markdown",
   "id": "1dec4da0-47f1-4eea-92e6-556303dcc014",
   "metadata": {},
   "source": [
    "## 2_chat_model_basic_conversation"
   ]
  },
  {
   "cell_type": "code",
   "execution_count": null,
   "id": "6157030d-3e96-4e6c-8deb-1ac8a8f00a2f",
   "metadata": {},
   "outputs": [],
   "source": [
    "from langchain_core.messages import AIMessage, HumanMessage, SystemMessage"
   ]
  },
  {
   "cell_type": "code",
   "execution_count": null,
   "id": "f11e7b9c-f940-409f-bb45-91ab491dde11",
   "metadata": {},
   "outputs": [],
   "source": [
    "from langchain_ollama import ChatOllama"
   ]
  },
  {
   "cell_type": "code",
   "execution_count": null,
   "id": "837458d7-3137-4653-88be-91e01a7288f9",
   "metadata": {},
   "outputs": [],
   "source": [
    "model = ChatOllama(\n",
    "        base_url=\"http://localhost:11434\",\n",
    "        model=\"llama3.2\",\n",
    "        temperature=0)"
   ]
  },
  {
   "cell_type": "code",
   "execution_count": null,
   "id": "18c1a46b-04ee-4e6c-8f33-9b1b4a3d26a2",
   "metadata": {},
   "outputs": [],
   "source": [
    "# SystemMessage:\n",
    "#   Message for priming AI behavior, usually passed in as the first of a sequenc of input messages.\n",
    "# HumanMessagse:\n",
    "#   Message from a human to the AI model.\n",
    "messages = [\n",
    "    SystemMessage(content=\"Solve the following math problems\"),\n",
    "    HumanMessage(content=\"What is 81 divided by 9?\"),\n",
    "]"
   ]
  },
  {
   "cell_type": "code",
   "execution_count": null,
   "id": "edf83109-465b-45c9-b581-9a7295a583cb",
   "metadata": {},
   "outputs": [],
   "source": [
    "# Invoke the model with messages\n",
    "result = model.invoke(messages)"
   ]
  },
  {
   "cell_type": "code",
   "execution_count": null,
   "id": "cc900c03-2867-446d-b56f-27b1717cb72b",
   "metadata": {},
   "outputs": [],
   "source": [
    "print(f\"Answer from AI: {result}\")"
   ]
  },
  {
   "cell_type": "code",
   "execution_count": null,
   "id": "71d98063-ed87-40b6-a649-0c103287ce31",
   "metadata": {},
   "outputs": [],
   "source": [
    "print(f\"Answer from AI: {result.content}\")"
   ]
  },
  {
   "cell_type": "code",
   "execution_count": null,
   "id": "33bf833b-3b15-4b74-b65a-dd51b2137d66",
   "metadata": {},
   "outputs": [],
   "source": [
    "# AIMessage:\n",
    "#   Message from an AI.\n",
    "messages = [\n",
    "    SystemMessage(content=\"Solve the following math problems\"),\n",
    "    HumanMessage(content=\"What is 81 divided by 9?\"),\n",
    "    AIMessage(content=\"81 divided by 9 is 9.\"),\n",
    "    HumanMessage(content=\"What is 10 times 5?\"),\n",
    "]"
   ]
  },
  {
   "cell_type": "code",
   "execution_count": null,
   "id": "8431b7d3-49f4-41f1-b8e8-cb549a971fea",
   "metadata": {},
   "outputs": [],
   "source": [
    "# Invoke the model with messages\n",
    "result = model.invoke(messages)\n",
    "print(f\"Answer from AI: {result.content}\")"
   ]
  },
  {
   "cell_type": "code",
   "execution_count": null,
   "id": "f7f7ad09-ebcd-4bcf-8507-da514c845637",
   "metadata": {},
   "outputs": [],
   "source": [
    "# Invoke the model with messages\n",
    "result = model.invoke(\"Summarize our conversation so far\")\n",
    "print(f\"Answer from AI: {result.content}\")"
   ]
  },
  {
   "cell_type": "code",
   "execution_count": null,
   "id": "bb1c0b70-51e3-4482-9a62-899a66f0143f",
   "metadata": {},
   "outputs": [],
   "source": [
    "# AIMessage:\n",
    "#   Message from an Human.\n",
    "messages = [\n",
    "    SystemMessage(content=\"Solve the following math problems\"),\n",
    "    HumanMessage(content=\"What is 81 divided by 9?\"),\n",
    "    AIMessage(content=\"81 divided by 9 is 9.\"),\n",
    "    HumanMessage(content=\"What is 10 times 5?\"),\n",
    "    AIMessage(content=\"10 times 5 is 50.\"),\n",
    "    HumanMessage(content=\"Summarize our conversation so far\")\n",
    "]"
   ]
  },
  {
   "cell_type": "code",
   "execution_count": null,
   "id": "f7883a8d-4ce0-44e7-b8b4-4db4aed0776d",
   "metadata": {},
   "outputs": [],
   "source": [
    "# Invoke the model with messages\n",
    "result = model.invoke(messages)\n",
    "print(f\"Answer from AI: {result.content}\")"
   ]
  },
  {
   "cell_type": "markdown",
   "id": "5d581863-1924-41cf-aea8-2e69c4a47d3a",
   "metadata": {},
   "source": [
    "### 3_chat_model_alternatives"
   ]
  },
  {
   "cell_type": "code",
   "execution_count": null,
   "id": "f37cb602",
   "metadata": {},
   "outputs": [],
   "source": [
    "%pip install -q langchain-openai"
   ]
  },
  {
   "cell_type": "code",
   "execution_count": null,
   "id": "d3cc1aa7-385a-4c69-9fe1-83b9830a2229",
   "metadata": {},
   "outputs": [],
   "source": [
    "from langchain_openai import ChatOpenAI\n",
    "from langchain_core.messages import AIMessage, HumanMessage, SystemMessage"
   ]
  },
  {
   "cell_type": "code",
   "execution_count": null,
   "id": "471acf90-0333-466c-a8ab-7c6a9308e3ff",
   "metadata": {},
   "outputs": [],
   "source": [
    "openai_model = ChatOpenAI(model=\"gpt-4o-mini\")"
   ]
  },
  {
   "cell_type": "code",
   "execution_count": null,
   "id": "f2d945c4-3a8e-4d83-b08f-cb3da2f8caf9",
   "metadata": {},
   "outputs": [],
   "source": [
    "messages = [\n",
    "    SystemMessage(content=\"Solve the following math problems\"),\n",
    "    HumanMessage(content=\"What is 81 divided by 9?\"),\n",
    "]"
   ]
  },
  {
   "cell_type": "code",
   "execution_count": null,
   "id": "fb038952-63e1-4dee-8982-2314a709ad51",
   "metadata": {},
   "outputs": [],
   "source": [
    "# Invoke the model with messages\n",
    "result = openai_model.invoke(messages)\n",
    "print(f\"Answer from OpenAI: {result.content}\")"
   ]
  },
  {
   "cell_type": "markdown",
   "id": "ba9f17dc-1045-4459-9b08-c8fb3eb451d1",
   "metadata": {},
   "source": [
    "## 4_chat_model_conversation_with_user"
   ]
  },
  {
   "cell_type": "code",
   "execution_count": null,
   "id": "89fb0ef6-5ba3-4e43-9342-7f0fd0eb67dc",
   "metadata": {},
   "outputs": [],
   "source": [
    "# Use a list to store messages\n",
    "chat_history = []"
   ]
  },
  {
   "cell_type": "code",
   "execution_count": null,
   "id": "acc66ba3-63d1-433b-8440-da5b2266498a",
   "metadata": {},
   "outputs": [],
   "source": [
    "# Set an initial system message (optional)\n",
    "system_message = SystemMessage(content=\"You are a helpful AI assistant.\")\n",
    "chat_history.append(system_message)  # Add system message to chat history"
   ]
  },
  {
   "cell_type": "code",
   "execution_count": null,
   "id": "0840cc12-e906-4126-bc9a-f3bbf9cacdf8",
   "metadata": {},
   "outputs": [],
   "source": [
    "# Chat loop\n",
    "while True:\n",
    "    query = input(\"You: \")\n",
    "    if query.lower() == \"exit\":\n",
    "        break\n",
    "    chat_history.append(HumanMessage(content=query))  # Add user message\n",
    "\n",
    "    # Get AI response using history\n",
    "    result = model.invoke(chat_history)\n",
    "    response = result.content\n",
    "    chat_history.append(AIMessage(content=response))  # Add AI message\n",
    "\n",
    "    print(f\"AI: {response}\")\n",
    "\n",
    "\n",
    "print(\"---- Message History ----\")\n",
    "print(chat_history)"
   ]
  },
  {
   "cell_type": "markdown",
   "id": "5fe3de31-747e-4e71-be1e-4a6a8aad732e",
   "metadata": {},
   "source": [
    "## 5_chat_model_conversation_memory"
   ]
  },
  {
   "cell_type": "code",
   "execution_count": null,
   "id": "b4660869-ca43-436b-af04-68aad27aa326",
   "metadata": {},
   "outputs": [],
   "source": [
    "from langchain_core.chat_history import InMemoryChatMessageHistory\n",
    "from langchain_core.runnables.history import RunnableWithMessageHistory"
   ]
  },
  {
   "cell_type": "code",
   "execution_count": null,
   "id": "a2be4cec-b0f8-4ee8-b0ad-5b044680f971",
   "metadata": {},
   "outputs": [],
   "source": [
    "# store is a dictionary that maps session IDs to their corresponding chat histories.\n",
    "store = {}  # memory is maintained outside the chain"
   ]
  },
  {
   "cell_type": "code",
   "execution_count": null,
   "id": "06a79007-32a1-44f9-9fea-3a67f3d4beec",
   "metadata": {},
   "outputs": [],
   "source": [
    "# A function that returns the chat history for a given session ID.\n",
    "def get_session_history(session_id: str) -> InMemoryChatMessageHistory:\n",
    "    if session_id not in store:\n",
    "        store[session_id] = InMemoryChatMessageHistory()\n",
    "    return store[session_id]"
   ]
  },
  {
   "cell_type": "code",
   "execution_count": null,
   "id": "6ad18b01-9319-464e-ab72-c69d1e794fda",
   "metadata": {},
   "outputs": [],
   "source": [
    "#  Define a RunnableConfig object, with a `configurable` key. session_id determines thread\n",
    "config = {\"configurable\": {\"session_id\": \"1\"}}"
   ]
  },
  {
   "cell_type": "code",
   "execution_count": null,
   "id": "70504288-ab56-47ad-9063-5905d85d927a",
   "metadata": {},
   "outputs": [],
   "source": [
    "conversation = RunnableWithMessageHistory(\n",
    "    model,\n",
    "    get_session_history,\n",
    ")"
   ]
  },
  {
   "cell_type": "code",
   "execution_count": null,
   "id": "bc1b8b7d-601c-4d94-814b-d53f9f82efe3",
   "metadata": {},
   "outputs": [],
   "source": [
    "result = conversation.invoke(\n",
    "    \"Hi I'm Srijan Dubey.\",  # input or query\n",
    "    config=config,\n",
    ")\n",
    "print(f\"Answer from OpenAI: {result.content}\")"
   ]
  },
  {
   "cell_type": "code",
   "execution_count": null,
   "id": "9f790fbb-56b0-425c-b884-5e1ad53be6a1",
   "metadata": {},
   "outputs": [],
   "source": [
    "result = conversation.invoke(\n",
    "    \"What is my name?\",  # input or query\n",
    "    config=config,\n",
    ")\n",
    "print(f\"Answer from OpenAI: {result.content}\")"
   ]
  },
  {
   "cell_type": "code",
   "execution_count": null,
   "id": "fbef3e9e-c293-479c-9b20-a1b33273d8c8",
   "metadata": {},
   "outputs": [],
   "source": [
    "store"
   ]
  },
  {
   "cell_type": "code",
   "execution_count": null,
   "id": "b4b8a696-fc7b-4073-abdd-b08f397ff80b",
   "metadata": {},
   "outputs": [],
   "source": [
    "%pip install -q langchain-community SQLAlchemy"
   ]
  },
  {
   "cell_type": "code",
   "execution_count": null,
   "id": "daab3ef3-4870-42a0-958b-0275dbbd8604",
   "metadata": {},
   "outputs": [],
   "source": [
    "from langchain_community.chat_message_histories import SQLChatMessageHistory"
   ]
  },
  {
   "cell_type": "code",
   "execution_count": null,
   "id": "b9c783c5-8be3-4523-9c1b-06cc8a03923d",
   "metadata": {},
   "outputs": [],
   "source": [
    "# Function to get session history\n",
    "# create sync sql message history by connection_string\n",
    "def get_session_history(session_id: str):\n",
    "    return SQLChatMessageHistory(\n",
    "        session_id=session_id, \n",
    "        connection=\"sqlite:///memory.db\"\n",
    "    )"
   ]
  },
  {
   "cell_type": "code",
   "execution_count": null,
   "id": "b017639f-a4c5-4dce-b2bc-9775755e92c6",
   "metadata": {},
   "outputs": [],
   "source": [
    "config = {\"configurable\": {\"session_id\": \"session1\"}}"
   ]
  },
  {
   "cell_type": "code",
   "execution_count": null,
   "id": "e8bc5019-619b-4ac8-bf45-334b18133fac",
   "metadata": {},
   "outputs": [],
   "source": [
    "conversation_sql = RunnableWithMessageHistory(\n",
    "    model,\n",
    "    get_session_history,\n",
    ")"
   ]
  },
  {
   "cell_type": "code",
   "execution_count": null,
   "id": "6f1e87ad-b7ee-413f-9ef7-76ddb0034729",
   "metadata": {},
   "outputs": [],
   "source": [
    "result = conversation_sql.invoke(\n",
    "    \"Hi I'm Srijan Dubey.\",  # input or query\n",
    "    config=config,\n",
    ")\n",
    "print(f\"Answer from OpenAI: {result.content}\")"
   ]
  },
  {
   "cell_type": "code",
   "execution_count": null,
   "id": "07a6fabc-4093-414c-8839-2f58a33f34cc",
   "metadata": {},
   "outputs": [],
   "source": [
    "result = conversation_sql.invoke(\n",
    "    \"What is my name?\",  # input or query\n",
    "    config=config,\n",
    ")\n",
    "print(f\"Answer from OpenAI: {result.content}\")"
   ]
  },
  {
   "cell_type": "code",
   "execution_count": null,
   "id": "4d24f6d3-f2ce-43f8-91d6-ba9b7ddbed47",
   "metadata": {},
   "outputs": [],
   "source": [
    "config = {\"configurable\": {\"session_id\": \"session2\"}}"
   ]
  },
  {
   "cell_type": "code",
   "execution_count": null,
   "id": "790809b6-f4f9-48a2-aea3-d3c08a4eba7a",
   "metadata": {},
   "outputs": [],
   "source": [
    "result = conversation_sql.invoke(\n",
    "    \"What is my name?\",  # input or query\n",
    "    config=config,\n",
    ")\n",
    "print(f\"Answer from OpenAI: {result.content}\")"
   ]
  },
  {
   "cell_type": "code",
   "execution_count": null,
   "id": "09c48367-0c18-42aa-8387-bd4b9b695a76",
   "metadata": {},
   "outputs": [],
   "source": [
    "# create sync sql message history by connection_string\n",
    "message_history = get_session_history(\"session1\")"
   ]
  },
  {
   "cell_type": "code",
   "execution_count": null,
   "id": "6eaeab7f-a919-483b-9e3c-f55701a2247d",
   "metadata": {},
   "outputs": [],
   "source": [
    "message_history.get_messages()"
   ]
  }
 ],
 "metadata": {
  "kernelspec": {
   "display_name": ".venv",
   "language": "python",
   "name": "python3"
  },
  "language_info": {
   "codemirror_mode": {
    "name": "ipython",
    "version": 3
   },
   "file_extension": ".py",
   "mimetype": "text/x-python",
   "name": "python",
   "nbconvert_exporter": "python",
   "pygments_lexer": "ipython3",
   "version": "3.10.12"
  }
 },
 "nbformat": 4,
 "nbformat_minor": 5
}
