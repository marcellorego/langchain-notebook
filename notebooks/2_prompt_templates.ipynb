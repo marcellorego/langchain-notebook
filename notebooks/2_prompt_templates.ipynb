{
 "cells": [
  {
   "cell_type": "markdown",
   "id": "17fe46ab-fa78-44bf-928b-e118e7af27ba",
   "metadata": {},
   "source": [
    "# Prompt Templates"
   ]
  },
  {
   "cell_type": "markdown",
   "id": "119b74f6-64e5-48d5-8499-ac64e7b0ea0c",
   "metadata": {},
   "source": [
    "## 1_prompt_template_basic"
   ]
  },
  {
   "cell_type": "code",
   "execution_count": null,
   "id": "87b57e8a-c0cb-4967-ab2d-23f948f71aa1",
   "metadata": {},
   "outputs": [],
   "source": [
    "%pip install -q python-dotenv langchain langchain-community langchain-ollama"
   ]
  },
  {
   "cell_type": "code",
   "execution_count": null,
   "id": "d38590a7-2566-4579-bc51-dc50590a405d",
   "metadata": {},
   "outputs": [],
   "source": [
    "from dotenv import load_dotenv"
   ]
  },
  {
   "cell_type": "code",
   "execution_count": null,
   "id": "da982527-de62-4ef4-b909-f821c611b933",
   "metadata": {},
   "outputs": [],
   "source": [
    "# Load environment variables from .env\n",
    "load_dotenv()"
   ]
  },
  {
   "cell_type": "code",
   "execution_count": null,
   "id": "bc085759-bf71-4bfd-99ec-455f89692f4c",
   "metadata": {},
   "outputs": [],
   "source": [
    "from langchain_ollama import ChatOllama"
   ]
  },
  {
   "cell_type": "code",
   "execution_count": null,
   "id": "ad8a9d64-2f04-4222-b2d2-f615b22c632d",
   "metadata": {},
   "outputs": [],
   "source": [
    "model = ChatOllama(\n",
    "        base_url=\"http://localhost:11434\",\n",
    "        model=\"llama3.2\",\n",
    "        temperature=0)"
   ]
  },
  {
   "cell_type": "code",
   "execution_count": null,
   "id": "37aebaee-ebd5-4c65-864a-efc237a8a1de",
   "metadata": {},
   "outputs": [],
   "source": [
    "from langchain.prompts import ChatPromptTemplate\n",
    "from langchain_core.messages import HumanMessage"
   ]
  },
  {
   "cell_type": "code",
   "execution_count": null,
   "id": "dac3abd6-66cd-4ea1-a185-36fe65a1784e",
   "metadata": {},
   "outputs": [],
   "source": [
    "# PART 1: Create a ChatPromptTemplate using a template string\n",
    "template = \"Tell me a joke about {topic}.\"\n",
    "prompt_template = ChatPromptTemplate.from_template(template)"
   ]
  },
  {
   "cell_type": "code",
   "execution_count": null,
   "id": "e2a31b43-98a5-42d9-ba0b-16d7a939ab5a",
   "metadata": {},
   "outputs": [],
   "source": [
    "print(\"-----Prompt from Template-----\")\n",
    "prompt = prompt_template.invoke({\"topic\": \"cats\"})\n",
    "print(prompt)"
   ]
  },
  {
   "cell_type": "code",
   "execution_count": null,
   "id": "45a0c642-c74a-45b4-9763-4edaa2b0fe37",
   "metadata": {},
   "outputs": [],
   "source": [
    "# PART 2: Prompt with Multiple Placeholders\n",
    "template_multiple = \"\"\"You are a helpful assistant.\n",
    "Human: Tell me a {adjective} story about a {animal}.\n",
    "Assistant:\"\"\"\n",
    "prompt_multiple = ChatPromptTemplate.from_template(template_multiple)"
   ]
  },
  {
   "cell_type": "code",
   "execution_count": null,
   "id": "461f84af-04eb-44e1-972e-06e32f85aa03",
   "metadata": {},
   "outputs": [],
   "source": [
    "prompt = prompt_multiple.invoke({\n",
    "    \"adjective\": \"funny\", \n",
    "    \"animal\": \"panda\"\n",
    "})\n",
    "print(\"\\n----- Prompt with Multiple Placeholders -----\\n\")\n",
    "print(prompt)"
   ]
  },
  {
   "cell_type": "code",
   "execution_count": null,
   "id": "a1722bad-3fa7-49a9-883a-550e88b4e91c",
   "metadata": {},
   "outputs": [],
   "source": [
    "# PART 3: Prompt with System and Human Messages (Using Tuples)\n",
    "messages = [\n",
    "    (\"system\", \"You are a comedian who tells jokes about {topic}.\"),\n",
    "    (\"human\", \"Tell me {joke_count} jokes.\"),\n",
    "]\n",
    "prompt_template = ChatPromptTemplate.from_messages(messages)"
   ]
  },
  {
   "cell_type": "code",
   "execution_count": null,
   "id": "9981d426-07ac-4c23-b0a4-af1dc11fa86b",
   "metadata": {},
   "outputs": [],
   "source": [
    "prompt = prompt_template.invoke({\"topic\": \"lawyers\", \"joke_count\": 3})\n",
    "print(\"\\n----- Prompt with System and Human Messages (Tuple) -----\\n\")\n",
    "print(prompt)"
   ]
  },
  {
   "cell_type": "code",
   "execution_count": null,
   "id": "0b8408a9-527f-4f18-b204-1fa71d88a6d2",
   "metadata": {},
   "outputs": [],
   "source": [
    "# Extra Informoation about Part 3.\n",
    "# This does work:\n",
    "messages = [\n",
    "    (\"system\", \"You are a comedian who tells jokes about {topic}.\"),\n",
    "    HumanMessage(content=\"Tell me 3 jokes.\"),\n",
    "]\n",
    "prompt_template = ChatPromptTemplate.from_messages(messages)"
   ]
  },
  {
   "cell_type": "code",
   "execution_count": null,
   "id": "1d84cf38-1474-4fa0-9bbe-160bd3d13853",
   "metadata": {},
   "outputs": [],
   "source": [
    "prompt = prompt_template.invoke({\"topic\": \"lawyers\"})\n",
    "print(\"\\n----- Prompt with System and Human Messages (Tuple) -----\\n\")\n",
    "print(prompt)"
   ]
  },
  {
   "cell_type": "code",
   "execution_count": null,
   "id": "5d8dfa5d-bd49-4fcb-a0a4-2127b80e0664",
   "metadata": {},
   "outputs": [],
   "source": [
    "# This does NOT work:\n",
    "messages = [\n",
    "    (\"system\", \"You are a comedian who tells jokes about {topic}.\"),\n",
    "    HumanMessage(content=\"Tell me {joke_count} jokes.\"),\n",
    "]\n",
    "prompt_template = ChatPromptTemplate.from_messages(messages)"
   ]
  },
  {
   "cell_type": "code",
   "execution_count": null,
   "id": "460f5ca8-67e9-444d-9caa-8a30be351d86",
   "metadata": {},
   "outputs": [],
   "source": [
    "prompt = prompt_template.invoke({\"topic\": \"lawyers\", \"joke_count\": 3})\n",
    "print(\"\\n----- Prompt with System and Human Messages (Tuple) -----\\n\")\n",
    "print(prompt)"
   ]
  }
 ],
 "metadata": {
  "kernelspec": {
   "display_name": ".venv",
   "language": "python",
   "name": "python3"
  },
  "language_info": {
   "codemirror_mode": {
    "name": "ipython",
    "version": 3
   },
   "file_extension": ".py",
   "mimetype": "text/x-python",
   "name": "python",
   "nbconvert_exporter": "python",
   "pygments_lexer": "ipython3",
   "version": "3.10.12"
  }
 },
 "nbformat": 4,
 "nbformat_minor": 5
}
